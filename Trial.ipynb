{
  "nbformat": 4,
  "nbformat_minor": 0,
  "metadata": {
    "colab": {
      "name": "Trial.ipynb ",
      "provenance": [],
      "collapsed_sections": [],
      "include_colab_link": true
    },
    "kernelspec": {
      "name": "python3",
      "display_name": "Python 3"
    },
    "language_info": {
      "name": "python"
    },
    "accelerator": "GPU"
  },
  "cells": [
    {
      "cell_type": "markdown",
      "metadata": {
        "id": "view-in-github",
        "colab_type": "text"
      },
      "source": [
        "<a href=\"https://colab.research.google.com/github/ShunsukeT15/mamachari/blob/main/Trial.ipynb\" target=\"_parent\"><img src=\"https://colab.research.google.com/assets/colab-badge.svg\" alt=\"Open In Colab\"/></a>"
      ]
    },
    {
      "cell_type": "markdown",
      "metadata": {
        "id": "euiscdw5hqF8"
      },
      "source": [
        " Project Name    : Machine Learning\n",
        " \n",
        " File Name       : Trial.ipynb\n",
        " \n",
        " Creation Date   : Jun 9 2021\n",
        " \n",
        " Copyright (c) 2021 KAMAKE no SUSUME. All rights reserved.\n",
        " \n",
        " This source code or any portion thereof must not be reproduced or used in any manner whatsoever."
      ]
    },
    {
      "cell_type": "code",
      "metadata": {
        "colab": {
          "base_uri": "https://localhost:8080/"
        },
        "id": "Zl0YAYbCfNhd",
        "outputId": "c420f3d5-e11c-49c8-ee95-c90bf1db73b0"
      },
      "source": [
        "from google.colab import drive\n",
        "drive.mount('/content/drive')"
      ],
      "execution_count": 1,
      "outputs": [
        {
          "output_type": "stream",
          "name": "stdout",
          "text": [
            "Mounted at /content/drive\n"
          ]
        }
      ]
    },
    {
      "cell_type": "code",
      "metadata": {
        "colab": {
          "base_uri": "https://localhost:8080/"
        },
        "id": "WXA8b_lQG7oE",
        "outputId": "ea568471-ba3a-4478-d53e-3f4fa623e5f0"
      },
      "source": [
        "%cd /content/drive/MyDrive/Colab/Trial"
      ],
      "execution_count": 17,
      "outputs": [
        {
          "output_type": "stream",
          "name": "stdout",
          "text": [
            "/content/drive/MyDrive/Colab/Trial\n"
          ]
        }
      ]
    },
    {
      "cell_type": "code",
      "metadata": {
        "colab": {
          "base_uri": "https://localhost:8080/"
        },
        "id": "7Gk-01QTHB5y",
        "outputId": "da7a4b57-7461-43a0-ac3f-7570edd65c6b"
      },
      "source": [
        "%run prepare_images.py datasets/mydata"
      ],
      "execution_count": 18,
      "outputs": [
        {
          "output_type": "stream",
          "name": "stdout",
          "text": [
            "Copied images from datasets/mydata/stop\n"
          ]
        }
      ]
    },
    {
      "cell_type": "code",
      "metadata": {
        "colab": {
          "base_uri": "https://localhost:8080/"
        },
        "id": "b0M27-adIaCu",
        "outputId": "d0a840a3-a48c-4e1e-a4b6-c6672bd9267a"
      },
      "source": [
        "import tensorflow as tf\n",
        "from tensorflow.keras.layers import Conv2D, MaxPooling2D\n",
        "from tensorflow.keras.models import Sequential\n",
        "from tensorflow.keras.layers import Dense, Dropout, Activation, Flatten\n",
        "from tensorflow.keras.preprocessing.image import array_to_img, img_to_array, load_img, ImageDataGenerator\n",
        "import numpy as np\n",
        "import matplotlib.pyplot as plt\n",
        "import sys\n",
        "import os\n",
        "import shutil\n",
        "import math\n",
        "from IPython.display import Image as IPImage\n",
        "from IPython.display import display_jpeg\n",
        "import visualize\n",
        "\n",
        "print(tf.__version__)\n",
        "\n",
        "train_dir = 'target_datasets/train'\n",
        "val_dir = 'target_datasets/val'\n",
        "\n",
        "backup_dir = './model'\n",
        "\n",
        "labels = [d for d in os.listdir(train_dir) if os.path.isdir(os.path.join(train_dir, d))]\n",
        "labels.sort()\n",
        "\n",
        "if os.path.exists(backup_dir):\n",
        "    shutil.rmtree(backup_dir)\n",
        "\n",
        "os.makedirs(backup_dir)\n",
        "\n",
        "with open(backup_dir + '/labels.txt','w') as f:\n",
        "    for label in labels:\n",
        "        f.write(label+\"\\n\")\n",
        "\n",
        "NUM_CLASSES = len(labels)\n",
        "print(\"class number=\" + str(NUM_CLASSES))\n",
        "\n",
        "labels = []\n",
        "with open(backup_dir + '/labels.txt','r') as f:\n",
        "    for line in f:\n",
        "        labels.append(line.rstrip())\n",
        "print(labels)"
      ],
      "execution_count": 19,
      "outputs": [
        {
          "output_type": "stream",
          "name": "stdout",
          "text": [
            "2.7.0\n",
            "class number=1\n",
            "['stop']\n"
          ]
        }
      ]
    },
    {
      "cell_type": "code",
      "metadata": {
        "colab": {
          "base_uri": "https://localhost:8080/",
          "height": 1000
        },
        "id": "F37DWY9CIa7u",
        "outputId": "398925c2-a463-4c66-a02b-c81a40dcf340"
      },
      "source": [
        "# 学習率\n",
        "LEARNING_RATE = 0.0005\n",
        "# エポック（世代数）\n",
        "EPOCHS = 15\n",
        "# バッチサイズ\n",
        "BATCH_SIZE = 8\n",
        "\n",
        "IMAGE_SIZE = 64\n",
        "\n",
        "#train_data_gen = ImageDataGenerator(rescale=1./255)\n",
        "train_data_gen = ImageDataGenerator(rescale=1./255, rotation_range=30)\n",
        "#train_data_gen = ImageDataGenerator(rescale=1./255, rotation_range=60,channel_shift_range=5.,brightness_range=[0.3, 1.0],zoom_range=0.5,horizontal_flip=0.3,vertical_flip=0.3)\n",
        "val_data_gen = ImageDataGenerator(rescale=1./255,rotation_range=15)\n",
        "#val_data_gen = ImageDataGenerator(rescale=1./255)\n",
        "\n",
        "# メモ：ImageDataGenerator.flow_from_directory はIteratorを返す\n",
        "train_data = train_data_gen.flow_from_directory(\n",
        "    train_dir, target_size=(IMAGE_SIZE, IMAGE_SIZE),\n",
        "    color_mode='rgb', batch_size=BATCH_SIZE,\n",
        "    class_mode='categorical', shuffle=True)\n",
        "\n",
        "validation_data = val_data_gen.flow_from_directory(\n",
        "    val_dir, target_size=(IMAGE_SIZE, IMAGE_SIZE),\n",
        "    color_mode='rgb', batch_size=BATCH_SIZE,\n",
        "    class_mode='categorical', shuffle=False)\n",
        "\n",
        "# Display train data sample\n",
        "visualize.pick_train_sample(labels, train_data)\n",
        "\n",
        "# AI model definition\n",
        "model = Sequential()\n",
        "\n",
        "model.add(Conv2D(8, (3, 3), padding='same',\n",
        "    input_shape=(IMAGE_SIZE, IMAGE_SIZE, 3)))\n",
        "model.add(Activation('relu'))\n",
        "model.add(Conv2D(8, (3, 3)))\n",
        "model.add(Activation('relu'))\n",
        "model.add(MaxPooling2D(pool_size=(2, 2)))\n",
        "#model.add(Dropout(0.25))\n",
        "\n",
        "model.add(Flatten())\n",
        "model.add(Dense(128))\n",
        "model.add(Activation('relu'))\n",
        "#model.add(Dropout(0.5))\n",
        "model.add(Dense(NUM_CLASSES))\n",
        "model.add(Activation('softmax'))\n",
        "\n",
        "opt = tf.keras.optimizers.Adam(lr=LEARNING_RATE)\n",
        "#opt = tf.keras.optimizers.SGD(lr=LEARNING_RATE)\n",
        "\n",
        "model.compile(opt, loss='categorical_crossentropy',\n",
        "    metrics=['accuracy'])\n",
        "\n",
        "model.summary()\n",
        "\n",
        "# Execute train\n",
        "history = model.fit(train_data, epochs=EPOCHS, validation_data=validation_data, verbose=1)\n",
        "\n",
        "score = model.evaluate(validation_data)\n",
        "print('Test loss:', score[0])\n",
        "print('Test accuracy:', score[1])"
      ],
      "execution_count": 24,
      "outputs": [
        {
          "output_type": "stream",
          "name": "stdout",
          "text": [
            "Found 68 images belonging to 1 classes.\n",
            "Found 21 images belonging to 1 classes.\n",
            "## Train Data Sample ##\n"
          ]
        },
        {
          "output_type": "display_data",
          "data": {
            "image/png": "[encoded data removed]",
            "text/plain": [
              "<Figure size 1152x1152 with 1 Axes>"
            ]
          },
          "metadata": {
            "needs_background": "light"
          }
        },
        {
          "output_type": "stream",
          "name": "stderr",
          "text": [
            "/usr/local/lib/python3.7/dist-packages/keras/optimizer_v2/adam.py:105: UserWarning: The `lr` argument is deprecated, use `learning_rate` instead.\n",
            "  super(Adam, self).__init__(name, **kwargs)\n"
          ]
        },
        {
          "output_type": "stream",
          "name": "stdout",
          "text": [
            "Model: \"sequential_4\"\n",
            "_________________________________________________________________\n",
            " Layer (type)                Output Shape              Param #   \n",
            "=================================================================\n",
            " conv2d_8 (Conv2D)           (None, 64, 64, 8)         224       \n",
            "                                                                 \n",
            " activation_16 (Activation)  (None, 64, 64, 8)         0         \n",
            "                                                                 \n",
            " conv2d_9 (Conv2D)           (None, 62, 62, 8)         584       \n",
            "                                                                 \n",
            " activation_17 (Activation)  (None, 62, 62, 8)         0         \n",
            "                                                                 \n",
            " max_pooling2d_4 (MaxPooling  (None, 31, 31, 8)        0         \n",
            " 2D)                                                             \n",
            "                                                                 \n",
            " flatten_4 (Flatten)         (None, 7688)              0         \n",
            "                                                                 \n",
            " dense_8 (Dense)             (None, 128)               984192    \n",
            "                                                                 \n",
            " activation_18 (Activation)  (None, 128)               0         \n",
            "                                                                 \n",
            " dense_9 (Dense)             (None, 1)                 129       \n",
            "                                                                 \n",
            " activation_19 (Activation)  (None, 1)                 0         \n",
            "                                                                 \n",
            "=================================================================\n",
            "Total params: 985,129\n",
            "Trainable params: 985,129\n",
            "Non-trainable params: 0\n",
            "_________________________________________________________________\n",
            "Epoch 1/15\n",
            "9/9 [==============================] - 4s 357ms/step - loss: 0.0000e+00 - accuracy: 1.0000 - val_loss: 0.0000e+00 - val_accuracy: 1.0000\n",
            "Epoch 2/15\n",
            "9/9 [==============================] - 1s 151ms/step - loss: 0.0000e+00 - accuracy: 1.0000 - val_loss: 0.0000e+00 - val_accuracy: 1.0000\n",
            "Epoch 3/15\n",
            "9/9 [==============================] - 1s 158ms/step - loss: 0.0000e+00 - accuracy: 1.0000 - val_loss: 0.0000e+00 - val_accuracy: 1.0000\n",
            "Epoch 4/15\n",
            "9/9 [==============================] - 1s 157ms/step - loss: 0.0000e+00 - accuracy: 1.0000 - val_loss: 0.0000e+00 - val_accuracy: 1.0000\n",
            "Epoch 5/15\n",
            "9/9 [==============================] - 1s 157ms/step - loss: 0.0000e+00 - accuracy: 1.0000 - val_loss: 0.0000e+00 - val_accuracy: 1.0000\n",
            "Epoch 6/15\n",
            "9/9 [==============================] - 1s 152ms/step - loss: 0.0000e+00 - accuracy: 1.0000 - val_loss: 0.0000e+00 - val_accuracy: 1.0000\n",
            "Epoch 7/15\n",
            "9/9 [==============================] - 1s 155ms/step - loss: 0.0000e+00 - accuracy: 1.0000 - val_loss: 0.0000e+00 - val_accuracy: 1.0000\n",
            "Epoch 8/15\n",
            "9/9 [==============================] - 1s 153ms/step - loss: 0.0000e+00 - accuracy: 1.0000 - val_loss: 0.0000e+00 - val_accuracy: 1.0000\n",
            "Epoch 9/15\n",
            "9/9 [==============================] - 1s 160ms/step - loss: 0.0000e+00 - accuracy: 1.0000 - val_loss: 0.0000e+00 - val_accuracy: 1.0000\n",
            "Epoch 10/15\n",
            "9/9 [==============================] - 1s 164ms/step - loss: 0.0000e+00 - accuracy: 1.0000 - val_loss: 0.0000e+00 - val_accuracy: 1.0000\n",
            "Epoch 11/15\n",
            "9/9 [==============================] - 1s 153ms/step - loss: 0.0000e+00 - accuracy: 1.0000 - val_loss: 0.0000e+00 - val_accuracy: 1.0000\n",
            "Epoch 12/15\n",
            "9/9 [==============================] - 1s 147ms/step - loss: 0.0000e+00 - accuracy: 1.0000 - val_loss: 0.0000e+00 - val_accuracy: 1.0000\n",
            "Epoch 13/15\n",
            "9/9 [==============================] - 1s 154ms/step - loss: 0.0000e+00 - accuracy: 1.0000 - val_loss: 0.0000e+00 - val_accuracy: 1.0000\n",
            "Epoch 14/15\n",
            "9/9 [==============================] - 1s 157ms/step - loss: 0.0000e+00 - accuracy: 1.0000 - val_loss: 0.0000e+00 - val_accuracy: 1.0000\n",
            "Epoch 15/15\n",
            "9/9 [==============================] - 1s 149ms/step - loss: 0.0000e+00 - accuracy: 1.0000 - val_loss: 0.0000e+00 - val_accuracy: 1.0000\n",
            "3/3 [==============================] - 0s 76ms/step - loss: 0.0000e+00 - accuracy: 1.0000\n",
            "Test loss: 0.0\n",
            "Test accuracy: 1.0\n"
          ]
        }
      ]
    },
    {
      "cell_type": "code",
      "metadata": {
        "colab": {
          "base_uri": "https://localhost:8080/",
          "height": 1000
        },
        "id": "j6VYV8NkIjSl",
        "outputId": "7e111391-dc85-417e-bd52-e777a036eaa2"
      },
      "source": [
        "# Failed pictures\n",
        "visualize.vis_failed_pic(model, labels, validation_data, val_dir, BATCH_SIZE, 100)\n",
        "\n",
        "# Visualize loss\n",
        "visualize.vis_loss_accuracy(history, EPOCHS)\n",
        "\n",
        "# Save model\n",
        "save_model_path = os.path.join(backup_dir, 'my_model.h5')\n",
        "model.save(save_model_path)\n",
        "\n",
        "# Confusion Matrix\n",
        "visualize.vis_confusion_matrix(model, validation_data)"
      ],
      "execution_count": 25,
      "outputs": [
        {
          "output_type": "stream",
          "name": "stdout",
          "text": [
            "Prediction data\n",
            "[[1.]\n",
            " [1.]\n",
            " [1.]\n",
            " [1.]\n",
            " [1.]\n",
            " [1.]\n",
            " [1.]\n",
            " [1.]\n",
            " [1.]\n",
            " [1.]\n",
            " [1.]\n",
            " [1.]\n",
            " [1.]\n",
            " [1.]\n",
            " [1.]\n",
            " [1.]\n",
            " [1.]\n",
            " [1.]\n",
            " [1.]\n",
            " [1.]\n",
            " [1.]]\n",
            "(21, 1)\n",
            "#0 Expected:stop -> Predicted:stop\n",
            "File: stop/S__54026290.jpg\n",
            "Each Prediction Value: [1.]\n",
            "* Correct *\n",
            "#1 Expected:stop -> Predicted:stop\n",
            "File: stop/S__54059048.jpg\n",
            "Each Prediction Value: [1.]\n",
            "* Correct *\n",
            "#2 Expected:stop -> Predicted:stop\n",
            "File: stop/S__54091795.jpg\n",
            "Each Prediction Value: [1.]\n",
            "* Correct *\n",
            "#3 Expected:stop -> Predicted:stop\n",
            "File: stop/S__54132744.jpg\n",
            "Each Prediction Value: [1.]\n",
            "* Correct *\n",
            "#4 Expected:stop -> Predicted:stop\n",
            "File: stop/S__54132747.jpg\n",
            "Each Prediction Value: [1.]\n",
            "* Correct *\n",
            "#5 Expected:stop -> Predicted:stop\n",
            "File: stop/S__54132751.jpg\n",
            "Each Prediction Value: [1.]\n",
            "* Correct *\n",
            "#6 Expected:stop -> Predicted:stop\n",
            "File: stop/S__54132758.jpg\n",
            "Each Prediction Value: [1.]\n",
            "* Correct *\n",
            "#7 Expected:stop -> Predicted:stop\n",
            "File: stop/S__54132769.jpg\n",
            "Each Prediction Value: [1.]\n",
            "* Correct *\n",
            "#8 Expected:stop -> Predicted:stop\n",
            "File: stop/S__54132774.jpg\n",
            "Each Prediction Value: [1.]\n",
            "* Correct *\n",
            "#9 Expected:stop -> Predicted:stop\n",
            "File: stop/S__54132778.jpg\n",
            "Each Prediction Value: [1.]\n",
            "* Correct *\n",
            "#10 Expected:stop -> Predicted:stop\n",
            "File: stop/S__54132782.jpg\n",
            "Each Prediction Value: [1.]\n",
            "* Correct *\n",
            "#11 Expected:stop -> Predicted:stop\n",
            "File: stop/keikai1.png\n",
            "Each Prediction Value: [1.]\n",
            "* Correct *\n",
            "#12 Expected:stop -> Predicted:stop\n",
            "File: stop/stop_val2.jpg\n",
            "Each Prediction Value: [1.]\n",
            "* Correct *\n",
            "#13 Expected:stop -> Predicted:stop\n",
            "File: stop/suzu1.jpg\n",
            "Each Prediction Value: [1.]\n",
            "* Correct *\n",
            "#14 Expected:stop -> Predicted:stop\n",
            "File: stop/suzu2.jpg\n",
            "Each Prediction Value: [1.]\n",
            "* Correct *\n",
            "#15 Expected:stop -> Predicted:stop\n",
            "File: stop/止まれ10.jpg\n",
            "Each Prediction Value: [1.]\n",
            "* Correct *\n",
            "#16 Expected:stop -> Predicted:stop\n",
            "File: stop/止まれ12.jpg\n",
            "Each Prediction Value: [1.]\n",
            "* Correct *\n",
            "#17 Expected:stop -> Predicted:stop\n",
            "File: stop/止まれ17.jpg\n",
            "Each Prediction Value: [1.]\n",
            "* Correct *\n",
            "#18 Expected:stop -> Predicted:stop\n",
            "File: stop/止まれ18.jpg\n",
            "Each Prediction Value: [1.]\n",
            "* Correct *\n",
            "#19 Expected:stop -> Predicted:stop\n",
            "File: stop/止まれ2.jpg\n",
            "Each Prediction Value: [1.]\n",
            "* Correct *\n",
            "#20 Expected:stop -> Predicted:stop\n",
            "File: stop/止まれ8.jpg\n",
            "Each Prediction Value: [1.]\n",
            "* Correct *\n",
            "Loss\n"
          ]
        },
        {
          "output_type": "display_data",
          "data": {
            "image/png": "[encoded data removed]",
            "text/plain": [
              "<Figure size 432x288 with 1 Axes>"
            ]
          },
          "metadata": {
            "needs_background": "light"
          }
        },
        {
          "output_type": "stream",
          "name": "stdout",
          "text": [
            "Accuracy\n"
          ]
        },
        {
          "output_type": "display_data",
          "data": {
            "image/png": "[encoded data removed]",
            "text/plain": [
              "<Figure size 432x288 with 1 Axes>"
            ]
          },
          "metadata": {
            "needs_background": "light"
          }
        },
        {
          "output_type": "stream",
          "name": "stdout",
          "text": [
            "Confusion Matrix\n"
          ]
        },
        {
          "output_type": "display_data",
          "data": {
            "image/png": "[encoded data removed]",
            "text/plain": [
              "<Figure size 864x648 with 2 Axes>"
            ]
          },
          "metadata": {
            "needs_background": "light"
          }
        }
      ]
    },
    {
      "cell_type": "code",
      "metadata": {
        "colab": {
          "base_uri": "https://localhost:8080/",
          "height": 434
        },
        "id": "YxPPxv9bI0ot",
        "outputId": "6c451d1e-3d7c-4940-841a-fd10ce118b46"
      },
      "source": [
        "visualize.vis_filter(model, 'conv2d')\n",
        "visualize.vis_filter(model, 'conv2d_1')"
      ],
      "execution_count": 11,
      "outputs": [
        {
          "output_type": "stream",
          "name": "stdout",
          "text": [
            "Visualize filter: conv2d\n"
          ]
        },
        {
          "output_type": "error",
          "ename": "ValueError",
          "evalue": "ignored",
          "traceback": [
            "\u001b[0;31m---------------------------------------------------------------------------\u001b[0m",
            "\u001b[0;31mValueError\u001b[0m                                Traceback (most recent call last)",
            "\u001b[0;32m<ipython-input-11-860fd4393f0b>\u001b[0m in \u001b[0;36m<module>\u001b[0;34m()\u001b[0m\n\u001b[0;32m----> 1\u001b[0;31m \u001b[0mvisualize\u001b[0m\u001b[0;34m.\u001b[0m\u001b[0mvis_filter\u001b[0m\u001b[0;34m(\u001b[0m\u001b[0mmodel\u001b[0m\u001b[0;34m,\u001b[0m \u001b[0;34m'conv2d'\u001b[0m\u001b[0;34m)\u001b[0m\u001b[0;34m\u001b[0m\u001b[0;34m\u001b[0m\u001b[0m\n\u001b[0m\u001b[1;32m      2\u001b[0m \u001b[0mvisualize\u001b[0m\u001b[0;34m.\u001b[0m\u001b[0mvis_filter\u001b[0m\u001b[0;34m(\u001b[0m\u001b[0mmodel\u001b[0m\u001b[0;34m,\u001b[0m \u001b[0;34m'conv2d_1'\u001b[0m\u001b[0;34m)\u001b[0m\u001b[0;34m\u001b[0m\u001b[0;34m\u001b[0m\u001b[0m\n",
            "\u001b[0;32m/content/drive/My Drive/Colab/Trial/visualize.py\u001b[0m in \u001b[0;36mvis_filter\u001b[0;34m(model, layer)\u001b[0m\n\u001b[1;32m    210\u001b[0m \u001b[0;32mdef\u001b[0m \u001b[0mvis_filter\u001b[0m\u001b[0;34m(\u001b[0m\u001b[0mmodel\u001b[0m\u001b[0;34m,\u001b[0m \u001b[0mlayer\u001b[0m\u001b[0;34m)\u001b[0m\u001b[0;34m:\u001b[0m\u001b[0;34m\u001b[0m\u001b[0;34m\u001b[0m\u001b[0m\n\u001b[1;32m    211\u001b[0m     \u001b[0mprint\u001b[0m\u001b[0;34m(\u001b[0m\u001b[0;34m'Visualize filter: '\u001b[0m \u001b[0;34m+\u001b[0m \u001b[0mlayer\u001b[0m\u001b[0;34m)\u001b[0m\u001b[0;34m\u001b[0m\u001b[0;34m\u001b[0m\u001b[0m\n\u001b[0;32m--> 212\u001b[0;31m     \u001b[0mvi_layer\u001b[0m \u001b[0;34m=\u001b[0m \u001b[0mmodel\u001b[0m\u001b[0;34m.\u001b[0m\u001b[0mget_layer\u001b[0m\u001b[0;34m(\u001b[0m\u001b[0mlayer\u001b[0m\u001b[0;34m)\u001b[0m\u001b[0;34m\u001b[0m\u001b[0;34m\u001b[0m\u001b[0m\n\u001b[0m\u001b[1;32m    213\u001b[0m \u001b[0;34m\u001b[0m\u001b[0m\n\u001b[1;32m    214\u001b[0m     \u001b[0;31m# Get weights\u001b[0m\u001b[0;34m\u001b[0m\u001b[0;34m\u001b[0m\u001b[0;34m\u001b[0m\u001b[0m\n",
            "\u001b[0;32m/usr/local/lib/python3.7/dist-packages/keras/engine/training.py\u001b[0m in \u001b[0;36mget_layer\u001b[0;34m(self, name, index)\u001b[0m\n\u001b[1;32m   2629\u001b[0m         \u001b[0;32mif\u001b[0m \u001b[0mlayer\u001b[0m\u001b[0;34m.\u001b[0m\u001b[0mname\u001b[0m \u001b[0;34m==\u001b[0m \u001b[0mname\u001b[0m\u001b[0;34m:\u001b[0m\u001b[0;34m\u001b[0m\u001b[0;34m\u001b[0m\u001b[0m\n\u001b[1;32m   2630\u001b[0m           \u001b[0;32mreturn\u001b[0m \u001b[0mlayer\u001b[0m\u001b[0;34m\u001b[0m\u001b[0;34m\u001b[0m\u001b[0m\n\u001b[0;32m-> 2631\u001b[0;31m       raise ValueError(f'No such layer: {name}. Existing layers are '\n\u001b[0m\u001b[1;32m   2632\u001b[0m                        f'{self.layers}.')\n\u001b[1;32m   2633\u001b[0m     raise ValueError('Provide either a layer name or layer index at '\n",
            "\u001b[0;31mValueError\u001b[0m: No such layer: conv2d. Existing layers are [<keras.layers.convolutional.Conv2D object at 0x7f6ae020b810>, <keras.layers.core.activation.Activation object at 0x7f6ae020be50>, <keras.layers.convolutional.Conv2D object at 0x7f6ae036c2d0>, <keras.layers.core.activation.Activation object at 0x7f6ae0399450>, <keras.layers.pooling.MaxPooling2D object at 0x7f6a6e279b50>, <keras.layers.core.flatten.Flatten object at 0x7f6a6e23bbd0>, <keras.layers.core.dense.Dense object at 0x7f6ae0584b10>, <keras.layers.core.activation.Activation object at 0x7f6ae0193ed0>, <keras.layers.core.dense.Dense object at 0x7f6ae0079690>, <keras.layers.core.activation.Activation object at 0x7f6a6e2a8d50>]."
          ]
        }
      ]
    },
    {
      "cell_type": "code",
      "metadata": {
        "id": "zNY2vU-qS4rl"
      },
      "source": [
        "!cat incorrect.txt"
      ],
      "execution_count": 26,
      "outputs": []
    },
    {
      "cell_type": "code",
      "metadata": {
        "colab": {
          "base_uri": "https://localhost:8080/"
        },
        "id": "vrW0MWl7I4fd",
        "outputId": "364951f3-97fd-4a58-ec42-ecd0c4d71e8d"
      },
      "source": [
        "!cat correct.txt"
      ],
      "execution_count": 27,
      "outputs": [
        {
          "output_type": "stream",
          "name": "stdout",
          "text": [
            "target_datasets/val/stop/S__54026290.jpg\n",
            "target_datasets/val/stop/S__54059048.jpg\n",
            "target_datasets/val/stop/S__54091795.jpg\n",
            "target_datasets/val/stop/S__54132744.jpg\n",
            "target_datasets/val/stop/S__54132747.jpg\n",
            "target_datasets/val/stop/S__54132751.jpg\n",
            "target_datasets/val/stop/S__54132758.jpg\n",
            "target_datasets/val/stop/S__54132769.jpg\n",
            "target_datasets/val/stop/S__54132774.jpg\n",
            "target_datasets/val/stop/S__54132778.jpg\n",
            "target_datasets/val/stop/S__54132782.jpg\n",
            "target_datasets/val/stop/keikai1.png\n",
            "target_datasets/val/stop/stop_val2.jpg\n",
            "target_datasets/val/stop/suzu1.jpg\n",
            "target_datasets/val/stop/suzu2.jpg\n",
            "target_datasets/val/stop/止まれ10.jpg\n",
            "target_datasets/val/stop/止まれ12.jpg\n",
            "target_datasets/val/stop/止まれ17.jpg\n",
            "target_datasets/val/stop/止まれ18.jpg\n",
            "target_datasets/val/stop/止まれ2.jpg\n",
            "target_datasets/val/stop/止まれ8.jpg\n"
          ]
        }
      ]
    },
    {
      "cell_type": "code",
      "metadata": {
        "colab": {
          "base_uri": "https://localhost:8080/",
          "height": 941
        },
        "id": "-QsApnBYI7G8",
        "outputId": "186c5ba2-5b39-4215-b0fd-bdd7d308f7d5"
      },
      "source": [
        "visualize.vis_hidden_layer('incorrect.txt', 'activation_1', IMAGE_SIZE)"
      ],
      "execution_count": null,
      "outputs": [
        {
          "output_type": "stream",
          "name": "stdout",
          "text": [
            "Model: \"sequential_10\"\n",
            "_________________________________________________________________\n",
            " Layer (type)                Output Shape              Param #   \n",
            "=================================================================\n",
            " conv2d_14 (Conv2D)          (None, 64, 64, 8)         224       \n",
            "                                                                 \n",
            " activation_34 (Activation)  (None, 64, 64, 8)         0         \n",
            "                                                                 \n",
            " conv2d_15 (Conv2D)          (None, 62, 62, 8)         584       \n",
            "                                                                 \n",
            " activation_35 (Activation)  (None, 62, 62, 8)         0         \n",
            "                                                                 \n",
            " max_pooling2d_10 (MaxPoolin  (None, 31, 31, 8)        0         \n",
            " g2D)                                                            \n",
            "                                                                 \n",
            " flatten_10 (Flatten)        (None, 7688)              0         \n",
            "                                                                 \n",
            " dense_20 (Dense)            (None, 128)               984192    \n",
            "                                                                 \n",
            " activation_36 (Activation)  (None, 128)               0         \n",
            "                                                                 \n",
            " dense_21 (Dense)            (None, 2)                 258       \n",
            "                                                                 \n",
            " activation_37 (Activation)  (None, 2)                 0         \n",
            "                                                                 \n",
            "=================================================================\n",
            "Total params: 985,258\n",
            "Trainable params: 985,258\n",
            "Non-trainable params: 0\n",
            "_________________________________________________________________\n"
          ]
        },
        {
          "output_type": "error",
          "ename": "ValueError",
          "evalue": "ignored",
          "traceback": [
            "\u001b[0;31m---------------------------------------------------------------------------\u001b[0m",
            "\u001b[0;31mValueError\u001b[0m                                Traceback (most recent call last)",
            "\u001b[0;32m<ipython-input-65-b4c250a2b0f6>\u001b[0m in \u001b[0;36m<module>\u001b[0;34m()\u001b[0m\n\u001b[0;32m----> 1\u001b[0;31m \u001b[0mvisualize\u001b[0m\u001b[0;34m.\u001b[0m\u001b[0mvis_hidden_layer\u001b[0m\u001b[0;34m(\u001b[0m\u001b[0;34m'incorrect.txt'\u001b[0m\u001b[0;34m,\u001b[0m \u001b[0;34m'activation_1'\u001b[0m\u001b[0;34m,\u001b[0m \u001b[0mIMAGE_SIZE\u001b[0m\u001b[0;34m)\u001b[0m\u001b[0;34m\u001b[0m\u001b[0;34m\u001b[0m\u001b[0m\n\u001b[0m",
            "\u001b[0;32m/content/drive/My Drive/Colab/Trial/visualize.py\u001b[0m in \u001b[0;36mvis_hidden_layer\u001b[0;34m(file_name, layer_name, image_size)\u001b[0m\n\u001b[1;32m    180\u001b[0m             \u001b[0mprint\u001b[0m\u001b[0;34m(\u001b[0m\u001b[0;34m\"hidden_channel_amount = \"\u001b[0m \u001b[0;34m+\u001b[0m \u001b[0mstr\u001b[0m\u001b[0;34m(\u001b[0m\u001b[0mhidden_channel_amount\u001b[0m\u001b[0;34m)\u001b[0m\u001b[0;34m)\u001b[0m\u001b[0;34m\u001b[0m\u001b[0;34m\u001b[0m\u001b[0m\n\u001b[1;32m    181\u001b[0m     \u001b[0mROW\u001b[0m \u001b[0;34m=\u001b[0m \u001b[0;36m8\u001b[0m\u001b[0;34m\u001b[0m\u001b[0;34m\u001b[0m\u001b[0m\n\u001b[0;32m--> 182\u001b[0;31m     \u001b[0mhidden_layer_model\u001b[0m \u001b[0;34m=\u001b[0m \u001b[0mModel\u001b[0m\u001b[0;34m(\u001b[0m\u001b[0minputs\u001b[0m\u001b[0;34m=\u001b[0m\u001b[0mmodel\u001b[0m\u001b[0;34m.\u001b[0m\u001b[0minput\u001b[0m\u001b[0;34m,\u001b[0m \u001b[0moutputs\u001b[0m\u001b[0;34m=\u001b[0m\u001b[0mmodel\u001b[0m\u001b[0;34m.\u001b[0m\u001b[0mget_layer\u001b[0m\u001b[0;34m(\u001b[0m\u001b[0mlayer_name\u001b[0m\u001b[0;34m)\u001b[0m\u001b[0;34m.\u001b[0m\u001b[0moutput\u001b[0m\u001b[0;34m)\u001b[0m\u001b[0;34m\u001b[0m\u001b[0;34m\u001b[0m\u001b[0m\n\u001b[0m\u001b[1;32m    183\u001b[0m \u001b[0;34m\u001b[0m\u001b[0m\n\u001b[1;32m    184\u001b[0m     \u001b[0mval_dir_list\u001b[0m \u001b[0;34m=\u001b[0m \u001b[0;34m[\u001b[0m\u001b[0;34m]\u001b[0m\u001b[0;34m\u001b[0m\u001b[0;34m\u001b[0m\u001b[0m\n",
            "\u001b[0;32m/usr/local/lib/python3.7/dist-packages/keras/engine/training.py\u001b[0m in \u001b[0;36mget_layer\u001b[0;34m(self, name, index)\u001b[0m\n\u001b[1;32m   2629\u001b[0m         \u001b[0;32mif\u001b[0m \u001b[0mlayer\u001b[0m\u001b[0;34m.\u001b[0m\u001b[0mname\u001b[0m \u001b[0;34m==\u001b[0m \u001b[0mname\u001b[0m\u001b[0;34m:\u001b[0m\u001b[0;34m\u001b[0m\u001b[0;34m\u001b[0m\u001b[0m\n\u001b[1;32m   2630\u001b[0m           \u001b[0;32mreturn\u001b[0m \u001b[0mlayer\u001b[0m\u001b[0;34m\u001b[0m\u001b[0;34m\u001b[0m\u001b[0m\n\u001b[0;32m-> 2631\u001b[0;31m       raise ValueError(f'No such layer: {name}. Existing layers are '\n\u001b[0m\u001b[1;32m   2632\u001b[0m                        f'{self.layers}.')\n\u001b[1;32m   2633\u001b[0m     raise ValueError('Provide either a layer name or layer index at '\n",
            "\u001b[0;31mValueError\u001b[0m: No such layer: activation_1. Existing layers are [<keras.layers.convolutional.Conv2D object at 0x7f17b94388d0>, <keras.layers.core.activation.Activation object at 0x7f17b948fc90>, <keras.layers.convolutional.Conv2D object at 0x7f1744b63ad0>, <keras.layers.core.activation.Activation object at 0x7f18305aed50>, <keras.layers.pooling.MaxPooling2D object at 0x7f17b94640d0>, <keras.layers.core.flatten.Flatten object at 0x7f17b9ac8f50>, <keras.layers.core.dense.Dense object at 0x7f18e4c0c950>, <keras.layers.core.activation.Activation object at 0x7f183de81150>, <keras.layers.core.dense.Dense object at 0x7f17b9b076d0>, <keras.layers.core.activation.Activation object at 0x7f183df534d0>]."
          ]
        }
      ]
    },
    {
      "cell_type": "code",
      "metadata": {
        "id": "rL5a8V9PI9eS"
      },
      "source": [
        ""
      ],
      "execution_count": null,
      "outputs": []
    }
  ]
}